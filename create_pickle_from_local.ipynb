{
 "cells": [
  {
   "cell_type": "markdown",
   "metadata": {},
   "source": [
    "# Create Pickle from Local Documents\n",
    "\n",
    "_You will need json documents in the documents directory to run this notebook. You can get them by using the `download-documents` script in your local CLUE instance_\n"
   ]
  },
  {
   "cell_type": "code",
   "execution_count": 1,
   "metadata": {},
   "outputs": [
    {
     "name": "stdout",
     "output_type": "stream",
     "text": [
      "Ingested 100 documents\n",
      "Ingested 200 documents\n",
      "Ingested 300 documents\n",
      "Ingested a total of 329 documents\n"
     ]
    }
   ],
   "source": [
    "import json\n",
    "import os\n",
    "import pickle\n",
    "from datetime import datetime\n",
    "\n",
    "\n",
    "directory_path = os.path.join(os.getcwd(), \"documents\")\n",
    "\n",
    "# Get all document files in a list\n",
    "doc_files = []\n",
    "for file in os.listdir(directory_path):\n",
    "  if file.endswith(\".json\"):\n",
    "    doc_files.append(file)\n",
    "\n",
    "# Ingest each one into a massive list of dicts (qdocs)\n",
    "batch_size = 100\n",
    "total_docs = len(doc_files)\n",
    "count = 0\n",
    "qdocs = []\n",
    "\n",
    "for i in range(0, total_docs, batch_size):\n",
    "  batch = doc_files[i:i + batch_size]\n",
    "  batch_data = []\n",
    "\n",
    "  for b in batch:\n",
    "    with open(os.path.join(directory_path, b), 'r') as f:\n",
    "      obj = json.load(f)\n",
    "      batch_data.append(obj)\n",
    "      count += 1\n",
    "\n",
    "  qdocs.extend(batch_data)\n",
    "\n",
    "  if count % batch_size == 0:\n",
    "    print(\"Ingested\", count, \"documents\")\n",
    "\n",
    "print(\"Ingested a total of\", count, \"documents\")\n",
    "\n",
    "timestamp = datetime.now().strftime(\"%Y%m%d_%H%M\")\n",
    "new_pickle_name = f\"documents_{timestamp}.pkl\"\n",
    "pickle_directory_path = os.path.join(os.getcwd(), \"pickles\")\n",
    "\n",
    "# Create 'pickles' directory if it doesn't exist\n",
    "if not os.path.exists(pickle_directory_path):\n",
    "  os.makedirs(pickle_directory_path)\n",
    "\n",
    "with open(os.path.join(pickle_directory_path, new_pickle_name), 'wb') as file:\n",
    "  pickle.dump(qdocs, file)"
   ]
  }
 ],
 "metadata": {
  "kernelspec": {
   "display_name": "Python 3",
   "language": "python",
   "name": "python3"
  },
  "language_info": {
   "codemirror_mode": {
    "name": "ipython",
    "version": 3
   },
   "file_extension": ".py",
   "mimetype": "text/x-python",
   "name": "python",
   "nbconvert_exporter": "python",
   "pygments_lexer": "ipython3",
   "version": "3.10.11"
  }
 },
 "nbformat": 4,
 "nbformat_minor": 2
}
