{
 "cells": [
  {
   "cell_type": "markdown",
   "metadata": {},
   "source": [
    "# Serve Docs\n",
    "This is a utlity to serve the docs locally.\n",
    "\n",
    "1. Run a CLUE instance locally\n",
    "2. Configure and run the cell below.\n",
    "3. A list of links to to the documents as raw json and in document viewer will be visible at this url {{ insert url here }}\n",
    "\n",
    "\n"
   ]
  },
  {
   "cell_type": "code",
   "execution_count": 1,
   "metadata": {},
   "outputs": [
    {
     "name": "stdout",
     "output_type": "stream",
     "text": [
      "ok to proceed\n",
      "current_dir:  /Users/josephbacal/Projects/CC/docsfiles\n",
      "Serving HTTP on localhost port 8083...\n"
     ]
    },
    {
     "name": "stderr",
     "output_type": "stream",
     "text": [
      "127.0.0.1 - - [09/Nov/2023 12:41:34] \"GET / HTTP/1.1\" 200 -\n",
      "127.0.0.1 - - [09/Nov/2023 12:41:34] code 404, message File not found\n",
      "127.0.0.1 - - [09/Nov/2023 12:41:34] \"GET /favicon.ico HTTP/1.1\" 404 -\n"
     ]
    }
   ],
   "source": [
    "import os\n",
    "import http.server\n",
    "\n",
    "starting_dir = os.getcwd()\n",
    "if starting_dir.endswith('documents'):\n",
    "    os.chdir('..')\n",
    "\n",
    "current_dir = os.getcwd()\n",
    "if not current_dir.endswith('docsfiles'):\n",
    "    print('This script must be run from the `docsfiles` directory')\n",
    "    exit()\n",
    "\n",
    "print(\"ok to proceed\")\n",
    "print(\"current_dir: \", current_dir)\n",
    "\n",
    "documents_dir = \"./documents/\"\n",
    "\n",
    "os.chdir(documents_dir)\n",
    "\n",
    "# Create a simple HTTP server\n",
    "handler = http.server.SimpleHTTPRequestHandler\n",
    "httpd = http.server.HTTPServer(('localhost', 8083), handler)\n",
    "\n",
    "print(f\"Serving HTTP on localhost port 8083...\")\n",
    "\n",
    "# Start the server\n",
    "httpd.serve_forever()\n",
    "\n"
   ]
  }
 ],
 "metadata": {
  "kernelspec": {
   "display_name": "Python 3",
   "language": "python",
   "name": "python3"
  },
  "language_info": {
   "codemirror_mode": {
    "name": "ipython",
    "version": 3
   },
   "file_extension": ".py",
   "mimetype": "text/x-python",
   "name": "python",
   "nbconvert_exporter": "python",
   "pygments_lexer": "ipython3",
   "version": "3.10.11"
  }
 },
 "nbformat": 4,
 "nbformat_minor": 2
}
