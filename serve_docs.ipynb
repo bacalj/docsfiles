{
 "cells": [
  {
   "cell_type": "markdown",
   "metadata": {},
   "source": [
    "# Serve Docs\n",
    "This is a utlity to serve the docs locally.\n",
    "\n",
    "1. Run a CLUE instance locally\n",
    "2. Configure and run the cell below.\n",
    "3. A list of links to to the documents as raw json and in document viewer will be visible at this url {{ insert url here }}\n",
    "\n",
    "\n"
   ]
  },
  {
   "cell_type": "code",
   "execution_count": 1,
   "metadata": {},
   "outputs": [
    {
     "name": "stdout",
     "output_type": "stream",
     "text": [
      "Current working directory: /Users/josephbacal/Projects/CC/docsfiles\n",
      "Serving HTTP on :: port 8081 (http://[::]:8081/) ...\n"
     ]
    },
    {
     "name": "stderr",
     "output_type": "stream",
     "text": [
      "::1 - - [09/Nov/2023 12:12:37] \"GET / HTTP/1.1\" 200 -\n",
      "----------------------------------------\n",
      "Exception occurred during processing of request from ('::1', 53211, 0, 0)\n",
      "Traceback (most recent call last):\n",
      "  File \"/Library/Frameworks/Python.framework/Versions/3.10/lib/python3.10/socketserver.py\", line 683, in process_request_thread\n",
      "    self.finish_request(request, client_address)\n",
      "  File \"/Library/Frameworks/Python.framework/Versions/3.10/lib/python3.10/socketserver.py\", line 360, in finish_request\n",
      "    self.RequestHandlerClass(request, client_address, self)\n",
      "  File \"/Library/Frameworks/Python.framework/Versions/3.10/lib/python3.10/http/server.py\", line 668, in __init__\n",
      "    super().__init__(*args, **kwargs)\n",
      "  File \"/Library/Frameworks/Python.framework/Versions/3.10/lib/python3.10/socketserver.py\", line 747, in __init__\n",
      "    self.handle()\n",
      "  File \"/Library/Frameworks/Python.framework/Versions/3.10/lib/python3.10/http/server.py\", line 433, in handle\n",
      "    self.handle_one_request()\n",
      "  File \"/Library/Frameworks/Python.framework/Versions/3.10/lib/python3.10/http/server.py\", line 421, in handle_one_request\n",
      "    method()\n",
      "  File \"/var/folders/z3/9wj5sz4x1sb9116hj3qyq_j40000gn/T/ipykernel_66421/2037497577.py\", line 21, in do_GET\n",
      "    files = os.listdir(doc_directory)\n",
      "FileNotFoundError: [Errno 2] No such file or directory: 'documents'\n",
      "----------------------------------------\n"
     ]
    }
   ],
   "source": [
    "import os\n",
    "import http.server\n",
    "\n",
    "cwd = os.getcwd()\n",
    "print(f'Current working directory: {cwd}')\n",
    "# if the cwd does not end with `docsfiles`, abort script\n",
    "if not cwd.endswith('docsfiles'):\n",
    "  print('Please run this script from the `docsfiles` directory')\n",
    "  exit()\n",
    "\n",
    "doc_directory = '/documents'  # change this to an existing directory\n",
    "port = 8081\n",
    "\n",
    "class MyHTTPRequestHandler(http.server.SimpleHTTPRequestHandler):\n",
    "  def do_GET(self):\n",
    "    if self.path == '/documents':\n",
    "      self.send_response(200)\n",
    "      self.send_header('Content-type', 'text/html')\n",
    "      self.end_headers()\n",
    "\n",
    "      files = os.listdir(doc_directory)\n",
    "      html = '<html><body><table><tr><th>Link</th><th>Document Name</th></tr>'\n",
    "      for file in files:\n",
    "        html += f'<tr><td><a href=\"/{file}\">{file}</a></td><td>{file}</td></tr>'\n",
    "      html += '</table></body></html>'\n",
    "\n",
    "      self.wfile.write(html.encode())\n",
    "    else:\n",
    "      super().do_GET()\n",
    "\n",
    "os.chdir(doc_directory)\n",
    "http.server.test(HandlerClass=MyHTTPRequestHandler, port=port)"
   ]
  }
 ],
 "metadata": {
  "kernelspec": {
   "display_name": "Python 3",
   "language": "python",
   "name": "python3"
  },
  "language_info": {
   "codemirror_mode": {
    "name": "ipython",
    "version": 3
   },
   "file_extension": ".py",
   "mimetype": "text/x-python",
   "name": "python",
   "nbconvert_exporter": "python",
   "pygments_lexer": "ipython3",
   "version": "3.10.11"
  }
 },
 "nbformat": 4,
 "nbformat_minor": 2
}
