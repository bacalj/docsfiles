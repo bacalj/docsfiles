{
 "cells": [
  {
   "cell_type": "markdown",
   "metadata": {},
   "source": [
    "# Serve Docs\n",
    "This is a utlity to serve the docs locally.\n",
    "\n",
    "1. Configure and run the cell below.\n",
    "2. A list of links to to the documents as raw json and in document viewer will be visible at this url http://localhost:8083/\n"
   ]
  },
  {
   "cell_type": "code",
   "execution_count": 1,
   "metadata": {},
   "outputs": [
    {
     "name": "stdout",
     "output_type": "stream",
     "text": [
      "Serving HTTP on localhost port 8083...\n",
      "open http://localhost/8083 in your browser\n"
     ]
    },
    {
     "name": "stderr",
     "output_type": "stream",
     "text": [
      "127.0.0.1 - - [14/Nov/2023 22:44:26] \"GET / HTTP/1.1\" 200 -\n",
      "127.0.0.1 - - [14/Nov/2023 22:45:40] code 501, message Unsupported method ('OPTIONS')\n",
      "127.0.0.1 - - [14/Nov/2023 22:45:40] \"OPTIONS /document3.json HTTP/1.1\" 501 -\n",
      "127.0.0.1 - - [14/Nov/2023 22:45:40] code 501, message Unsupported method ('OPTIONS')\n",
      "127.0.0.1 - - [14/Nov/2023 22:45:40] \"OPTIONS /document3.json HTTP/1.1\" 501 -\n",
      "127.0.0.1 - - [14/Nov/2023 22:45:46] code 501, message Unsupported method ('OPTIONS')\n",
      "127.0.0.1 - - [14/Nov/2023 22:45:46] \"OPTIONS /document3.json HTTP/1.1\" 501 -\n",
      "127.0.0.1 - - [14/Nov/2023 22:46:06] code 501, message Unsupported method ('OPTIONS')\n",
      "127.0.0.1 - - [14/Nov/2023 22:46:06] \"OPTIONS /document3.json HTTP/1.1\" 501 -\n",
      "127.0.0.1 - - [14/Nov/2023 22:46:14] code 501, message Unsupported method ('OPTIONS')\n",
      "127.0.0.1 - - [14/Nov/2023 22:46:14] \"OPTIONS /document3.json HTTP/1.1\" 501 -\n"
     ]
    }
   ],
   "source": [
    "import os\n",
    "import http.server\n",
    "\n",
    "# configure local port to serve document json files\n",
    "port_number = 8083\n",
    "port_number_string = str(port_number)\n",
    "\n",
    "# server class\n",
    "class CustomHTTPRequestHandler(http.server.SimpleHTTPRequestHandler):\n",
    "    def end_headers(self):\n",
    "        self.send_header('Access-Control-Allow-Origin', '*')\n",
    "        self.send_header('Access-Control-Allow-Methods', 'GET')\n",
    "        self.send_header('Access-Control-Allow-Headers', 'Content-Type')\n",
    "        if self.path.endswith(\".json\"):\n",
    "            self.send_header(\"Content-Type\", 'application/json')\n",
    "        else:\n",
    "            self.send_header(\"Content-Type\", 'text/html')\n",
    "        http.server.SimpleHTTPRequestHandler.end_headers(self)\n",
    "\n",
    "    def do_GET(self):\n",
    "        if self.path == '/':\n",
    "            self.path = '/index.html'\n",
    "        return http.server.SimpleHTTPRequestHandler.do_GET(self)\n",
    "\n",
    "# playing around in jupyter can mess up os current working directory\n",
    "# so make sure we are in the right place\n",
    "starting_dir = os.getcwd()\n",
    "if starting_dir.endswith('documents'):\n",
    "    os.chdir('..')\n",
    "\n",
    "current_dir = os.getcwd()\n",
    "if not current_dir.endswith('docsfiles'):\n",
    "    print('This script must be run from the `docsfiles` directory. Quit VSC and restart from the correct directory.')\n",
    "    exit()\n",
    "\n",
    "documents_dir = \"./documents/\"\n",
    "os.chdir(documents_dir)\n",
    "\n",
    "# write an html file to serve\n",
    "with open('index.html', 'w') as f:\n",
    "    style=\"<style>table {font-size: 12px; font-family: arial, sans-serif;border-collapse: collapse;}td, th {border: 1px solid #dddddd;text-align: left;padding: 4px;}tr:nth-child(even) {background-color: #dddddd;}</style>\"\n",
    "    html_top = \"<html><body>\"\n",
    "    heading = \"<h1>Documents:</h1>\"\n",
    "    table_start = \"<table><thead><tr><th>Document</th><th>JSON Link</th><th>Document View</th></tr></thead><tbody>\"\n",
    "    html_start = style + html_top + heading + table_start\n",
    "    f.write(html_start)\n",
    "\n",
    "    for document in os.listdir('.'):\n",
    "        base_url = \"https://collaborative-learning.concord.org\"\n",
    "        uri = \"/branch/master/doc-editor.html\"\n",
    "        paramStr = \"?unit=example&document=\"\n",
    "        service_url = \"http://localhost:\" + port_number_string\n",
    "        # e.g. https://collaborative-learning.concord.org/branch/master/doc-editor.html?unit=example&document=http://localhost:8083/document3.json\n",
    "        doc_link = base_url + uri + paramStr + service_url + \"/\" + document\n",
    "        title_cell = f'<tr><td>{document}</td>'\n",
    "        json_cell = f'<td><a target=\"_blank\" href=\"{document}\">json</a></td>'\n",
    "        doc_cell = f'<td><a target=\"_blank\" href=\"{doc_link}\">doc</a></td></tr>'\n",
    "        f.write(title_cell + json_cell + doc_cell)\n",
    "\n",
    "    table_end = \"</tbody></table>\"\n",
    "    html_bottom = \"</body></html>\"\n",
    "    html_end = table_end + html_bottom\n",
    "    f.write(html_end)\n",
    "\n",
    "handler = CustomHTTPRequestHandler\n",
    "httpd = http.server.HTTPServer(('localhost', port_number), handler)\n",
    "\n",
    "print(f\"Serving HTTP on localhost port {port_number_string}...\")\n",
    "print(f\"open {service_url} in your browser\")\n",
    "\n",
    "httpd.serve_forever()\n",
    "\n"
   ]
  }
 ],
 "metadata": {
  "kernelspec": {
   "display_name": "Python 3",
   "language": "python",
   "name": "python3"
  },
  "language_info": {
   "codemirror_mode": {
    "name": "ipython",
    "version": 3
   },
   "file_extension": ".py",
   "mimetype": "text/x-python",
   "name": "python",
   "nbconvert_exporter": "python",
   "pygments_lexer": "ipython3",
   "version": "3.10.11"
  }
 },
 "nbformat": 4,
 "nbformat_minor": 2
}
